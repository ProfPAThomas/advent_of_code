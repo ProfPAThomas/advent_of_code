{
 "cells": [
  {
   "cell_type": "markdown",
   "id": "8c0a1412",
   "metadata": {},
   "source": [
    "# Advent calendar\n",
    "\n",
    "https://adventofcode.com/2023/"
   ]
  },
  {
   "cell_type": "markdown",
   "id": "7a6f1d94",
   "metadata": {},
   "source": [
    "## Day 1: Trebuchet\n",
    "\n",
    "### The puzzle, part one\n",
    "\n",
    "Something is wrong with global snow production, and you've been selected to take a look. The Elves have even given you a map; on it, they've used stars to mark the top fifty locations that are likely to be having problems.\n",
    "\n",
    "You've been doing this long enough to know that to restore snow operations, you need to check all fifty stars by December 25th.\n",
    "\n",
    "Collect stars by solving puzzles. Two puzzles will be made available on each day in the Advent calendar; the second puzzle is unlocked when you complete the first. Each puzzle grants one star. Good luck!\n",
    "\n",
    "You try to ask why they can't just use a weather machine (\"not powerful enough\") and where they're even sending you (\"the sky\") and why your map looks mostly blank (\"you sure ask a lot of questions\") and hang on did you just say the sky (\"of course, where do you think snow comes from\") when you realize that the Elves are already loading you into a trebuchet (\"please hold still, we need to strap you in\").\n",
    "\n",
    "As they're making the final adjustments, they discover that their calibration document (your puzzle input) has been amended by a very young Elf who was apparently just excited to show off her art skills. Consequently, the Elves are having trouble reading the values on the document.\n",
    "\n",
    "The newly-improved calibration document consists of lines of text; each line originally contained a specific calibration value that the Elves now need to recover. On each line, the calibration value can be found by combining the first digit and the last digit (in that order) to form a single two-digit number.\n",
    "\n",
    "For example:\\\n",
    "1abc2\\\n",
    "pqr3stu8vwx\\\n",
    "a1b2c3d4e5f\\\n",
    "treb7uchet\\\n",
    "\n",
    "In this example, the calibration values of these four lines are 12, 38, 15, and 77. Adding these together produces 142.\n",
    "\n",
    "Consider your entire calibration document. What is the sum of all of the calibration values?\n",
    "\n",
    "To begin, get your puzzle input."
   ]
  },
  {
   "cell_type": "markdown",
   "id": "afd91510",
   "metadata": {},
   "source": [
    "### The solution\n",
    "\n",
    "Set variables to hold running totals of first and last digits.\n",
    "Read in each line and use string methods to find first and last digits; add to running totals.\n",
    "Sum and output."
   ]
  },
  {
   "cell_type": "code",
   "execution_count": null,
   "id": "b27fd37e",
   "metadata": {},
   "outputs": [],
   "source": [
    "import numpy as np\n",
    "\n",
    "infile='Puzzle1.txt'\n",
    "digits='123456789'\n",
    "first_sum=0\n",
    "last_sum=0\n",
    "with open(infile,'r') as f:\n",
    "    lines=f.readlines()\n",
    "    for line in lines:\n",
    "        line_reverse=line[::-1]\n",
    "        i_first=1024\n",
    "        i_last=1024\n",
    "        for digit in digits:\n",
    "            if digit in line: \n",
    "                i_first = min(i_first,line.find(digit))\n",
    "                i_last = min(i_last,line_reverse.find(digit))\n",
    "        #print(line,line[i_first],line[i_last])\n",
    "        first_sum += int(line[i_first])\n",
    "        last_sum += int(line_reverse[i_last])\n",
    "total = 10*first_sum + last_sum\n",
    "print(first_sum,last_sum,total)"
   ]
  },
  {
   "cell_type": "markdown",
   "id": "f30cfa24",
   "metadata": {},
   "source": [
    "### The puzzle, part 2\n",
    "\n",
    "Your calculation isn't quite right. It looks like some of the digits are actually spelled out with letters: one, two, three, four, five, six, seven, eight, and nine also count as valid \"digits\".\n",
    "\n",
    "Equipped with this new information, you now need to find the real first and last digit on each line. For example:\n",
    "\n",
    "two1nine\n",
    "eightwothree\n",
    "abcone2threexyz\n",
    "xtwone3four\n",
    "4nineeightseven2\n",
    "zoneight234\n",
    "7pqrstsixteen\n",
    "In this example, the calibration values are 29, 83, 13, 24, 42, 14, and 76. Adding these together produces 281.\n",
    "\n",
    "What is the sum of all of the calibration values?\n",
    "\n",
    "### The solution\n",
    "\n",
    "I need to expand the list of digit strings to include the names of numbers.\n",
    "\n",
    "Because this expanded list has strings that are more than one character long, I also have to search for the reverse number strings in the reverse line.\n",
    "\n",
    "Finally, I need a dictionary to transle the number strings into values."
   ]
  },
  {
   "cell_type": "code",
   "execution_count": null,
   "id": "32b3b5a8",
   "metadata": {},
   "outputs": [],
   "source": [
    "import numpy as np\n",
    "\n",
    "infile='Puzzle1.txt'\n",
    "digits=['1','2','3','4','5','6','7','8','9',\n",
    "        'one','two','three','four','five','six','seven','eight','nine']\n",
    "digits_reverse = {i:i[::-1] for i in digits}\n",
    "values={'1':1,'2':2,'3':3,'4':4,'5':5,'6':6,'7':7,'8':8,'9':9,\n",
    "        'one':1,'two':2,'three':3,'four':4,'five':5,'six':6,'seven':7,'eight':8,'nine':9}\n",
    "\n",
    "first_sum=0\n",
    "last_sum=0\n",
    "with open(infile,'r') as f:\n",
    "    lines=f.readlines()\n",
    "    for line in lines:\n",
    "        line_reverse=line[::-1]\n",
    "        i_first=1024\n",
    "        i_last=1024\n",
    "        for digit in digits:\n",
    "            if digit in line:\n",
    "                if line.find(digit) < i_first:\n",
    "                    i_first = line.find(digit)\n",
    "                    digit_first = digit\n",
    "                digit_reverse=digits_reverse[digit]\n",
    "                if line_reverse.find(digit_reverse) < i_last:\n",
    "                    i_last = line_reverse.find(digit_reverse)\n",
    "                    digit_last = digit\n",
    "        #print(line,line[i_first],line[i_last])\n",
    "        first_sum += values[digit_first]\n",
    "        last_sum += values[digit_last]\n",
    "total = 10*first_sum + last_sum\n",
    "print(first_sum,last_sum,total)"
   ]
  }
 ],
 "metadata": {
  "language_info": {
   "name": "python",
   "pygments_lexer": "ipython3"
  }
 },
 "nbformat": 4,
 "nbformat_minor": 5
}
